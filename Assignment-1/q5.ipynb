{
 "cells": [
  {
   "cell_type": "code",
   "execution_count": null,
   "metadata": {},
   "outputs": [],
   "source": [
    "# Pavitra Behara - 2041002041\n",
    "# Question 5\n",
    "def multiply(a: float, b: float) -> float:\n",
    "    return a * b\n",
    "print(multiply(4, 4))\n",
    "\n",
    "# this function fixes the types like parameter types as float and return type as float"
   ]
  }
 ],
 "metadata": {
  "language_info": {
   "name": "python"
  },
  "orig_nbformat": 4
 },
 "nbformat": 4,
 "nbformat_minor": 2
}
