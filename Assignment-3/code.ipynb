{
 "cells": [
  {
   "attachments": {},
   "cell_type": "markdown",
   "metadata": {},
   "source": [
    "### IDSUP Assignment 3\n",
    "### Name : Pavitra Behara\n",
    "### Regd.No : 2041002041\n",
    "### Section : CSE-D\n"
   ]
  },
  {
   "attachments": {},
   "cell_type": "markdown",
   "metadata": {},
   "source": [
    "1. Write a Python program to find the derivate of using limit of the difference coefficient method at f(x) = e^x^2+ sin(x) − tan(x) + log(x)\n"
   ]
  },
  {
   "cell_type": "code",
   "execution_count": 1,
   "metadata": {},
   "outputs": [
    {
     "name": "stdout",
     "output_type": "stream",
     "text": [
      "f'(1) =  3.5513661338359976\n"
     ]
    }
   ],
   "source": [
    "import math\n",
    "\n",
    "def f(x):\n",
    "    return math.exp(x**2) + math.sin(x) - math.tan(x) + math.log(x)\n",
    "def d(x):\n",
    "    h = 0.00001\n",
    "    return (f(x+h)-f(x))/h\n",
    "print(\"f'(1) = \", d(1))\n"
   ]
  },
  {
   "attachments": {},
   "cell_type": "markdown",
   "metadata": {},
   "source": [
    "2. Write a Python program to find gradient of Rosenbrock function using limit of the difference coeffficient method at the point (1,2). Rosenbrock function is defined below.\n",
    "f(x, y) = (1 − x)^2 + 100(y − x^2)^2"
   ]
  },
  {
   "cell_type": "code",
   "execution_count": null,
   "metadata": {},
   "outputs": [],
   "source": []
  }
 ],
 "metadata": {
  "kernelspec": {
   "display_name": "Python 3",
   "language": "python",
   "name": "python3"
  },
  "language_info": {
   "codemirror_mode": {
    "name": "ipython",
    "version": 3
   },
   "file_extension": ".py",
   "mimetype": "text/x-python",
   "name": "python",
   "nbconvert_exporter": "python",
   "pygments_lexer": "ipython3",
   "version": "3.10.5"
  },
  "orig_nbformat": 4
 },
 "nbformat": 4,
 "nbformat_minor": 2
}
