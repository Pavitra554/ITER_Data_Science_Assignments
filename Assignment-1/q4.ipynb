{
 "cells": [
  {
   "cell_type": "code",
   "execution_count": 1,
   "metadata": {},
   "outputs": [
    {
     "data": {
      "text/plain": [
       "['9ss3UK', 'eWBEtK', '7xVoRe']"
      ]
     },
     "execution_count": 1,
     "metadata": {},
     "output_type": "execute_result"
    }
   ],
   "source": [
    "# Pavitra Behara - 2041002041\n",
    "# Question 4\n",
    "import random\n",
    "import string\n",
    "\n",
    "\n",
    "def generate(length):\n",
    "    # string.ascii_letters gives a-zA-Z\n",
    "    # string.digits gives 0-9\n",
    "    characters = string.ascii_letters + string.digits\n",
    "    # print(characters)\n",
    "    password = ''.join(random.choices(characters, k=length))\n",
    "    return password\n",
    "\n",
    "\n",
    "length = int(input(\"Enter password length: \"))\n",
    "no_of_password = int(input(\"Enter number of passwords to generate: \"))\n",
    "passwords = [generate(length) for i in range(no_of_password)]\n",
    "passwords\n"
   ]
  }
 ],
 "metadata": {
  "kernelspec": {
   "display_name": "Python 3",
   "language": "python",
   "name": "python3"
  },
  "language_info": {
   "codemirror_mode": {
    "name": "ipython",
    "version": 3
   },
   "file_extension": ".py",
   "mimetype": "text/x-python",
   "name": "python",
   "nbconvert_exporter": "python",
   "pygments_lexer": "ipython3",
   "version": "3.10.5"
  },
  "orig_nbformat": 4
 },
 "nbformat": 4,
 "nbformat_minor": 2
}
