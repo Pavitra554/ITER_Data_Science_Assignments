{
 "cells": [
  {
   "cell_type": "code",
   "execution_count": 1,
   "metadata": {},
   "outputs": [
    {
     "name": "stdout",
     "output_type": "stream",
     "text": [
      "False\n",
      "True\n",
      "[1, 2, 3]\n",
      "[1, 2, 3]\n",
      "[1, 2, 3]\n",
      "[3, 1, 2]\n",
      "[1, 2, 3]\n",
      "2\n",
      "[2, 3, 4]\n"
     ]
    }
   ],
   "source": [
    "# Pavitra Behara - 2041002041\n",
    "# Question 3\n",
    "import random\n",
    "# 1\n",
    "# The all() function in Python returns True if all elements in an iterable are True, and False otherwise.\n",
    "print(all([True, True, False]))\n",
    "# The any() function in Python returns True if at least one element in an iterable is True, and False otherwise.\n",
    "print(any([True, True, False]))\n",
    "\n",
    "\n",
    "\n",
    "# 2\n",
    "x = [1, 2, 3]\n",
    "\n",
    "# The str() function is used to create a human-readable string representation of an object, \n",
    "# whereas the repr() function returns a string that can be used to recreate the object.\n",
    "print(str(x))\n",
    "print(repr(x))\n",
    "\n",
    "# 3\n",
    "x = [3, 1, 2]\n",
    "# The sort() function is a method of list objects and is used to sort the list in-place, which means that the original list is modified. It does not return a new sorted list, but instead sorts the list itself.\n",
    "\n",
    "x.sort()\n",
    "print(x)\n",
    "\n",
    "# On the other hand, sorted() is a built-in function in Python that takes an iterable as an argument and returns a new sorted list. The original iterable is not modified by this function.\n",
    "x = [3, 1, 2]\n",
    "y = sorted(x)\n",
    "print(x)\n",
    "print(y)\n",
    "\n",
    "# 4\n",
    "x = [1, 2, 3, 4, 5]\n",
    "\n",
    "# The random.choice() function takes a sequence (like a list or a string) as an argument and returns a randomly chosen item from that sequence. Each item in the sequence has an equal chance of being chosen.\n",
    "print(random.choice(x))\n",
    "\n",
    "# The random.sample() function takes two arguments: a sequence to choose from, and the number of items to select. It returns a list containing the randomly selected items from the sequence, without repeating any items. If the requested number of items is larger than the size of the sequence, a ValueError is raised.\n",
    "print(random.sample(x, 3))\n"
   ]
  }
 ],
 "metadata": {
  "kernelspec": {
   "display_name": "Python 3",
   "language": "python",
   "name": "python3"
  },
  "language_info": {
   "codemirror_mode": {
    "name": "ipython",
    "version": 3
   },
   "file_extension": ".py",
   "mimetype": "text/x-python",
   "name": "python",
   "nbconvert_exporter": "python",
   "pygments_lexer": "ipython3",
   "version": "3.10.5"
  },
  "orig_nbformat": 4
 },
 "nbformat": 4,
 "nbformat_minor": 2
}
