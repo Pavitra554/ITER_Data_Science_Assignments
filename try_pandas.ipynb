{
 "cells": [
  {
   "cell_type": "code",
   "execution_count": 1,
   "metadata": {},
   "outputs": [
    {
     "data": {
      "text/html": [
       "<div>\n",
       "<style scoped>\n",
       "    .dataframe tbody tr th:only-of-type {\n",
       "        vertical-align: middle;\n",
       "    }\n",
       "\n",
       "    .dataframe tbody tr th {\n",
       "        vertical-align: top;\n",
       "    }\n",
       "\n",
       "    .dataframe thead th {\n",
       "        text-align: right;\n",
       "    }\n",
       "</style>\n",
       "<table border=\"1\" class=\"dataframe\">\n",
       "  <thead>\n",
       "    <tr style=\"text-align: right;\">\n",
       "      <th></th>\n",
       "      <th>Age</th>\n",
       "      <th>Gen</th>\n",
       "      <th>credit</th>\n",
       "      <th>Beauty</th>\n",
       "      <th>state</th>\n",
       "      <th>Rating</th>\n",
       "      <th>Name</th>\n",
       "    </tr>\n",
       "  </thead>\n",
       "  <tbody>\n",
       "    <tr>\n",
       "      <th>0</th>\n",
       "      <td>30</td>\n",
       "      <td>Male</td>\n",
       "      <td>2</td>\n",
       "      <td>4</td>\n",
       "      <td>Odisha</td>\n",
       "      <td>5</td>\n",
       "      <td>XXXX</td>\n",
       "    </tr>\n",
       "    <tr>\n",
       "      <th>1</th>\n",
       "      <td>54</td>\n",
       "      <td>Male</td>\n",
       "      <td>2</td>\n",
       "      <td>3</td>\n",
       "      <td>West bengal</td>\n",
       "      <td>4</td>\n",
       "      <td>XXXY</td>\n",
       "    </tr>\n",
       "    <tr>\n",
       "      <th>2</th>\n",
       "      <td>50</td>\n",
       "      <td>Male</td>\n",
       "      <td>2</td>\n",
       "      <td>3</td>\n",
       "      <td>Odisha</td>\n",
       "      <td>3</td>\n",
       "      <td>XXYY</td>\n",
       "    </tr>\n",
       "    <tr>\n",
       "      <th>3</th>\n",
       "      <td>23</td>\n",
       "      <td>Female</td>\n",
       "      <td>1</td>\n",
       "      <td>5</td>\n",
       "      <td>Odisha</td>\n",
       "      <td>2</td>\n",
       "      <td>XYYY</td>\n",
       "    </tr>\n",
       "    <tr>\n",
       "      <th>4</th>\n",
       "      <td>44</td>\n",
       "      <td>Male</td>\n",
       "      <td>1</td>\n",
       "      <td>5</td>\n",
       "      <td>Gujurat</td>\n",
       "      <td>4</td>\n",
       "      <td>YYYY</td>\n",
       "    </tr>\n",
       "    <tr>\n",
       "      <th>...</th>\n",
       "      <td>...</td>\n",
       "      <td>...</td>\n",
       "      <td>...</td>\n",
       "      <td>...</td>\n",
       "      <td>...</td>\n",
       "      <td>...</td>\n",
       "      <td>...</td>\n",
       "    </tr>\n",
       "    <tr>\n",
       "      <th>58</th>\n",
       "      <td>55</td>\n",
       "      <td>Male</td>\n",
       "      <td>2</td>\n",
       "      <td>5</td>\n",
       "      <td>Odisha</td>\n",
       "      <td>5</td>\n",
       "      <td>YXXX</td>\n",
       "    </tr>\n",
       "    <tr>\n",
       "      <th>59</th>\n",
       "      <td>32</td>\n",
       "      <td>Female</td>\n",
       "      <td>2</td>\n",
       "      <td>5</td>\n",
       "      <td>Odisha</td>\n",
       "      <td>5</td>\n",
       "      <td>XXYY</td>\n",
       "    </tr>\n",
       "    <tr>\n",
       "      <th>60</th>\n",
       "      <td>30</td>\n",
       "      <td>Male</td>\n",
       "      <td>2</td>\n",
       "      <td>5</td>\n",
       "      <td>Bihar</td>\n",
       "      <td>5</td>\n",
       "      <td>XYYX</td>\n",
       "    </tr>\n",
       "    <tr>\n",
       "      <th>61</th>\n",
       "      <td>45</td>\n",
       "      <td>Male</td>\n",
       "      <td>2</td>\n",
       "      <td>5</td>\n",
       "      <td>Odisha</td>\n",
       "      <td>5</td>\n",
       "      <td>YYXX</td>\n",
       "    </tr>\n",
       "    <tr>\n",
       "      <th>62</th>\n",
       "      <td>35</td>\n",
       "      <td>Female</td>\n",
       "      <td>2</td>\n",
       "      <td>5</td>\n",
       "      <td>Odisha</td>\n",
       "      <td>5</td>\n",
       "      <td>XYXY</td>\n",
       "    </tr>\n",
       "  </tbody>\n",
       "</table>\n",
       "<p>63 rows × 7 columns</p>\n",
       "</div>"
      ],
      "text/plain": [
       "    Age     Gen  credit  Beauty        state  Rating  Name\n",
       "0    30    Male       2       4       Odisha       5  XXXX\n",
       "1    54    Male       2       3  West bengal       4  XXXY\n",
       "2    50    Male       2       3      Odisha        3  XXYY\n",
       "3    23  Female       1       5       Odisha       2  XYYY\n",
       "4    44    Male       1       5      Gujurat       4  YYYY\n",
       "..  ...     ...     ...     ...          ...     ...   ...\n",
       "58   55    Male       2       5      Odisha        5  YXXX\n",
       "59   32  Female       2       5      Odisha        5  XXYY\n",
       "60   30    Male       2       5        Bihar       5  XYYX\n",
       "61   45    Male       2       5       Odisha       5  YYXX\n",
       "62   35  Female       2       5       Odisha       5  XYXY\n",
       "\n",
       "[63 rows x 7 columns]"
      ]
     },
     "execution_count": 1,
     "metadata": {},
     "output_type": "execute_result"
    }
   ],
   "source": [
    "import pandas as pd\n",
    "\n",
    "df = pd.read_csv('Resources/feedback.csv')\n",
    "df"
   ]
  },
  {
   "cell_type": "code",
   "execution_count": 2,
   "metadata": {},
   "outputs": [
    {
     "name": "stdout",
     "output_type": "stream",
     "text": [
      "   Age     Gen  credit  Beauty        state  Rating  Name\n",
      "0   30    Male       2       4       Odisha       5  XXXX\n",
      "1   54    Male       2       3  West bengal       4  XXXY\n",
      "2   50    Male       2       3      Odisha        3  XXYY\n",
      "3   23  Female       1       5       Odisha       2  XYYY\n",
      "4   44    Male       1       5      Gujurat       4  YYYY\n"
     ]
    }
   ],
   "source": [
    "print(df.head()) "
   ]
  },
  {
   "cell_type": "code",
   "execution_count": 3,
   "metadata": {},
   "outputs": [
    {
     "name": "stdout",
     "output_type": "stream",
     "text": [
      "<class 'pandas.core.frame.DataFrame'>\n",
      "RangeIndex: 63 entries, 0 to 62\n",
      "Data columns (total 7 columns):\n",
      " #   Column  Non-Null Count  Dtype \n",
      "---  ------  --------------  ----- \n",
      " 0   Age     63 non-null     int64 \n",
      " 1   Gen     63 non-null     object\n",
      " 2   credit  63 non-null     int64 \n",
      " 3   Beauty  63 non-null     int64 \n",
      " 4   state   63 non-null     object\n",
      " 5   Rating  63 non-null     int64 \n",
      " 6   Name    63 non-null     object\n",
      "dtypes: int64(4), object(3)\n",
      "memory usage: 3.6+ KB\n",
      "None\n"
     ]
    }
   ],
   "source": [
    "print(df.info()) "
   ]
  },
  {
   "cell_type": "code",
   "execution_count": 4,
   "metadata": {},
   "outputs": [
    {
     "name": "stderr",
     "output_type": "stream",
     "text": [
      "C:\\Users\\hp\\AppData\\Local\\Temp\\ipykernel_7052\\222071786.py:1: FutureWarning: The default value of numeric_only in DataFrame.median is deprecated. In a future version, it will default to False. In addition, specifying 'numeric_only=None' is deprecated. Select only valid columns or specify the value of numeric_only to silence this warning.\n",
      "  df.median()\n"
     ]
    },
    {
     "data": {
      "text/plain": [
       "Age       35.0\n",
       "credit     2.0\n",
       "Beauty     4.0\n",
       "Rating     5.0\n",
       "dtype: float64"
      ]
     },
     "execution_count": 4,
     "metadata": {},
     "output_type": "execute_result"
    }
   ],
   "source": [
    "df.median()\n"
   ]
  },
  {
   "cell_type": "code",
   "execution_count": 5,
   "metadata": {},
   "outputs": [
    {
     "name": "stderr",
     "output_type": "stream",
     "text": [
      "C:\\Users\\hp\\AppData\\Local\\Temp\\ipykernel_7052\\3698961737.py:1: FutureWarning: The default value of numeric_only in DataFrame.mean is deprecated. In a future version, it will default to False. In addition, specifying 'numeric_only=None' is deprecated. Select only valid columns or specify the value of numeric_only to silence this warning.\n",
      "  df.mean()\n"
     ]
    },
    {
     "data": {
      "text/plain": [
       "Age       35.333333\n",
       "credit     1.793651\n",
       "Beauty     3.952381\n",
       "Rating     4.222222\n",
       "dtype: float64"
      ]
     },
     "execution_count": 5,
     "metadata": {},
     "output_type": "execute_result"
    }
   ],
   "source": [
    "df.mean()"
   ]
  },
  {
   "cell_type": "code",
   "execution_count": 6,
   "metadata": {},
   "outputs": [
    {
     "data": {
      "text/html": [
       "<div>\n",
       "<style scoped>\n",
       "    .dataframe tbody tr th:only-of-type {\n",
       "        vertical-align: middle;\n",
       "    }\n",
       "\n",
       "    .dataframe tbody tr th {\n",
       "        vertical-align: top;\n",
       "    }\n",
       "\n",
       "    .dataframe thead th {\n",
       "        text-align: right;\n",
       "    }\n",
       "</style>\n",
       "<table border=\"1\" class=\"dataframe\">\n",
       "  <thead>\n",
       "    <tr style=\"text-align: right;\">\n",
       "      <th></th>\n",
       "      <th>Age</th>\n",
       "      <th>Gen</th>\n",
       "      <th>credit</th>\n",
       "      <th>Beauty</th>\n",
       "      <th>state</th>\n",
       "      <th>Rating</th>\n",
       "      <th>Name</th>\n",
       "    </tr>\n",
       "  </thead>\n",
       "  <tbody>\n",
       "    <tr>\n",
       "      <th>0</th>\n",
       "      <td>30</td>\n",
       "      <td>Male</td>\n",
       "      <td>2</td>\n",
       "      <td>4</td>\n",
       "      <td>Odisha</td>\n",
       "      <td>5</td>\n",
       "      <td>XXYY</td>\n",
       "    </tr>\n",
       "  </tbody>\n",
       "</table>\n",
       "</div>"
      ],
      "text/plain": [
       "   Age   Gen  credit  Beauty   state  Rating  Name\n",
       "0   30  Male       2       4  Odisha       5  XXYY"
      ]
     },
     "execution_count": 6,
     "metadata": {},
     "output_type": "execute_result"
    }
   ],
   "source": [
    "df.mode()"
   ]
  },
  {
   "cell_type": "code",
   "execution_count": 7,
   "metadata": {},
   "outputs": [
    {
     "data": {
      "text/html": [
       "<div>\n",
       "<style scoped>\n",
       "    .dataframe tbody tr th:only-of-type {\n",
       "        vertical-align: middle;\n",
       "    }\n",
       "\n",
       "    .dataframe tbody tr th {\n",
       "        vertical-align: top;\n",
       "    }\n",
       "\n",
       "    .dataframe thead th {\n",
       "        text-align: right;\n",
       "    }\n",
       "</style>\n",
       "<table border=\"1\" class=\"dataframe\">\n",
       "  <thead>\n",
       "    <tr style=\"text-align: right;\">\n",
       "      <th></th>\n",
       "      <th>Age</th>\n",
       "      <th>credit</th>\n",
       "      <th>Beauty</th>\n",
       "      <th>Rating</th>\n",
       "    </tr>\n",
       "  </thead>\n",
       "  <tbody>\n",
       "    <tr>\n",
       "      <th>count</th>\n",
       "      <td>63.000000</td>\n",
       "      <td>63.000000</td>\n",
       "      <td>63.000000</td>\n",
       "      <td>63.000000</td>\n",
       "    </tr>\n",
       "    <tr>\n",
       "      <th>mean</th>\n",
       "      <td>35.333333</td>\n",
       "      <td>1.793651</td>\n",
       "      <td>3.952381</td>\n",
       "      <td>4.222222</td>\n",
       "    </tr>\n",
       "    <tr>\n",
       "      <th>std</th>\n",
       "      <td>8.094203</td>\n",
       "      <td>0.407935</td>\n",
       "      <td>0.869345</td>\n",
       "      <td>1.007143</td>\n",
       "    </tr>\n",
       "    <tr>\n",
       "      <th>min</th>\n",
       "      <td>18.000000</td>\n",
       "      <td>1.000000</td>\n",
       "      <td>2.000000</td>\n",
       "      <td>1.000000</td>\n",
       "    </tr>\n",
       "    <tr>\n",
       "      <th>25%</th>\n",
       "      <td>30.000000</td>\n",
       "      <td>2.000000</td>\n",
       "      <td>3.000000</td>\n",
       "      <td>3.000000</td>\n",
       "    </tr>\n",
       "    <tr>\n",
       "      <th>50%</th>\n",
       "      <td>35.000000</td>\n",
       "      <td>2.000000</td>\n",
       "      <td>4.000000</td>\n",
       "      <td>5.000000</td>\n",
       "    </tr>\n",
       "    <tr>\n",
       "      <th>75%</th>\n",
       "      <td>40.000000</td>\n",
       "      <td>2.000000</td>\n",
       "      <td>5.000000</td>\n",
       "      <td>5.000000</td>\n",
       "    </tr>\n",
       "    <tr>\n",
       "      <th>max</th>\n",
       "      <td>55.000000</td>\n",
       "      <td>2.000000</td>\n",
       "      <td>5.000000</td>\n",
       "      <td>5.000000</td>\n",
       "    </tr>\n",
       "  </tbody>\n",
       "</table>\n",
       "</div>"
      ],
      "text/plain": [
       "             Age     credit     Beauty     Rating\n",
       "count  63.000000  63.000000  63.000000  63.000000\n",
       "mean   35.333333   1.793651   3.952381   4.222222\n",
       "std     8.094203   0.407935   0.869345   1.007143\n",
       "min    18.000000   1.000000   2.000000   1.000000\n",
       "25%    30.000000   2.000000   3.000000   3.000000\n",
       "50%    35.000000   2.000000   4.000000   5.000000\n",
       "75%    40.000000   2.000000   5.000000   5.000000\n",
       "max    55.000000   2.000000   5.000000   5.000000"
      ]
     },
     "execution_count": 7,
     "metadata": {},
     "output_type": "execute_result"
    }
   ],
   "source": [
    "df.describe()\n"
   ]
  },
  {
   "cell_type": "code",
   "execution_count": 8,
   "metadata": {},
   "outputs": [
    {
     "data": {
      "image/png": "[encoded data removed]",
      "text/plain": [
       "<Figure size 640x480 with 1 Axes>"
      ]
     },
     "metadata": {},
     "output_type": "display_data"
    }
   ],
   "source": [
    "import matplotlib.pyplot as plt\n",
    "\n",
    "plt.scatter(df[\"Age\"],df[\"Rating\"],color=\"red\")\n",
    "plt.xlabel(\"Age\")\n",
    "plt.ylabel(\"Rating\")\n",
    "plt.title(\"age vs beauty of teacher\")\n",
    "plt.show()\n",
    "     "
   ]
  },
  {
   "cell_type": "code",
   "execution_count": 9,
   "metadata": {},
   "outputs": [
    {
     "name": "stdout",
     "output_type": "stream",
     "text": [
      "['Odisha', 'West bengal', 'Odisha ', 'Odisha', 'Gujurat', 'Sikkim', 'Odisha', 'Odisha', 'Odisha', 'Orissa', 'Odisha', 'Bihar', 'Bihar', 'Odisha', 'Odisha', 'Odisha', 'Odisha ', 'Odisha', 'Odisha', 'Odisha', 'Odisha', 'Odisha ', 'Odisha', 'Delhi', 'Odisha ', 'Odisha', 'Odisha ', 'Bihar', 'Odisha ', 'Orissa', 'Odisha', 'Bihar', 'Odisha', 'Odisha', 'Orissa', 'West Bengal ', 'Odisha', 'Bihar', 'Odisha', 'Uttar Pradesh ', 'Jharkhand ', 'Odisha ', 'Bihar', 'Odisha ', 'Odisha ', 'Delhi', 'Odisha ', 'Odisha', 'Odisha ', 'Odisha ', 'Odisha ', 'Bihar', 'Odisha ', 'Odisha ', 'Bihar', 'Odisha', 'Odisha ', 'Odisha ', 'Odisha ', 'Odisha ', 'Bihar', 'Odisha', 'Odisha']\n",
      "Odisha occures 24 times\n"
     ]
    }
   ],
   "source": [
    "states=[]\n",
    "for i in df[\"state\"]:\n",
    "  states.append(i)\n",
    "print(states)\n",
    "count=0\n",
    "for y in states:\n",
    "  if(y=='Odisha'):\n",
    "    count+=1\n",
    "print(f'Odisha occures {count} times')"
   ]
  }
 ],
 "metadata": {
  "kernelspec": {
   "display_name": "Python 3",
   "language": "python",
   "name": "python3"
  },
  "language_info": {
   "codemirror_mode": {
    "name": "ipython",
    "version": 3
   },
   "file_extension": ".py",
   "mimetype": "text/x-python",
   "name": "python",
   "nbconvert_exporter": "python",
   "pygments_lexer": "ipython3",
   "version": "3.10.5"
  },
  "orig_nbformat": 4
 },
 "nbformat": 4,
 "nbformat_minor": 2
}
